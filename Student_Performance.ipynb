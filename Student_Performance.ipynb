{
 "cells": [
  {
   "cell_type": "code",
   "execution_count": 29,
   "id": "05346070",
   "metadata": {},
   "outputs": [],
   "source": [
    "import pandas as pd\n",
    "import numpy as np\n",
    "import matplotlib.pyplot as plt\n",
    "import seaborn as sns\n",
    "import plotly.express as px\n",
    "import plotly.graph_objects as go"
   ]
  },
  {
   "cell_type": "code",
   "execution_count": 30,
   "id": "db81113b",
   "metadata": {},
   "outputs": [],
   "source": [
    "df = pd.read_csv('student_habits_performance.csv')"
   ]
  },
  {
   "cell_type": "code",
   "execution_count": 31,
   "id": "8a1f9550",
   "metadata": {},
   "outputs": [
    {
     "name": "stdout",
     "output_type": "stream",
     "text": [
      "Prep for syntetic data creation utilizign ChatGPT:\n",
      "\n",
      "Unique Columns: Index(['student_id', 'age', 'gender', 'study_hours_per_day',\n",
      "       'social_media_hours', 'netflix_hours', 'part_time_job',\n",
      "       'attendance_percentage', 'sleep_hours', 'diet_quality',\n",
      "       'exercise_frequency', 'parental_education_level', 'internet_quality',\n",
      "       'mental_health_rating', 'extracurricular_participation', 'exam_score'],\n",
      "      dtype='object')\n",
      "\n",
      "Unique Values: student_id                       1000\n",
      "age                                 8\n",
      "gender                              3\n",
      "study_hours_per_day                78\n",
      "social_media_hours                 60\n",
      "netflix_hours                      51\n",
      "part_time_job                       2\n",
      "attendance_percentage             320\n",
      "sleep_hours                        68\n",
      "diet_quality                        3\n",
      "exercise_frequency                  7\n",
      "parental_education_level            3\n",
      "internet_quality                    3\n",
      "mental_health_rating               10\n",
      "extracurricular_participation       2\n",
      "exam_score                        480\n",
      "dtype: int64\n",
      "\n",
      "Data Rows: 1000\n",
      "Data Columns: 16\n",
      "\n",
      "['S1000' 'S1001' 'S1002' 'S1003' 'S1004' 'S1005' 'S1006' 'S1007' 'S1008'\n",
      " 'S1009' 'S1010' 'S1011' 'S1012' 'S1013' 'S1014' 'S1015' 'S1016' 'S1017'\n",
      " 'S1018' 'S1019' 'S1020' 'S1021' 'S1022' 'S1023' 'S1024' 'S1025' 'S1026'\n",
      " 'S1027' 'S1028' 'S1029' 'S1030' 'S1031' 'S1032' 'S1033' 'S1034' 'S1035'\n",
      " 'S1036' 'S1037' 'S1038' 'S1039' 'S1040' 'S1041' 'S1042' 'S1043' 'S1044'\n",
      " 'S1045' 'S1046' 'S1047' 'S1048' 'S1049' 'S1050' 'S1051' 'S1052' 'S1053'\n",
      " 'S1054' 'S1055' 'S1056' 'S1057' 'S1058' 'S1059' 'S1060' 'S1061' 'S1062'\n",
      " 'S1063' 'S1064' 'S1065' 'S1066' 'S1067' 'S1068' 'S1069' 'S1070' 'S1071'\n",
      " 'S1072' 'S1073' 'S1074' 'S1075' 'S1076' 'S1077' 'S1078' 'S1079' 'S1080'\n",
      " 'S1081' 'S1082' 'S1083' 'S1084' 'S1085' 'S1086' 'S1087' 'S1088' 'S1089'\n",
      " 'S1090' 'S1091' 'S1092' 'S1093' 'S1094' 'S1095' 'S1096' 'S1097' 'S1098'\n",
      " 'S1099' 'S1100' 'S1101' 'S1102' 'S1103' 'S1104' 'S1105' 'S1106' 'S1107'\n",
      " 'S1108' 'S1109' 'S1110' 'S1111' 'S1112' 'S1113' 'S1114' 'S1115' 'S1116'\n",
      " 'S1117' 'S1118' 'S1119' 'S1120' 'S1121' 'S1122' 'S1123' 'S1124' 'S1125'\n",
      " 'S1126' 'S1127' 'S1128' 'S1129' 'S1130' 'S1131' 'S1132' 'S1133' 'S1134'\n",
      " 'S1135' 'S1136' 'S1137' 'S1138' 'S1139' 'S1140' 'S1141' 'S1142' 'S1143'\n",
      " 'S1144' 'S1145' 'S1146' 'S1147' 'S1148' 'S1149' 'S1150' 'S1151' 'S1152'\n",
      " 'S1153' 'S1154' 'S1155' 'S1156' 'S1157' 'S1158' 'S1159' 'S1160' 'S1161'\n",
      " 'S1162' 'S1163' 'S1164' 'S1165' 'S1166' 'S1167' 'S1168' 'S1169' 'S1170'\n",
      " 'S1171' 'S1172' 'S1173' 'S1174' 'S1175' 'S1176' 'S1177' 'S1178' 'S1179'\n",
      " 'S1180' 'S1181' 'S1182' 'S1183' 'S1184' 'S1185' 'S1186' 'S1187' 'S1188'\n",
      " 'S1189' 'S1190' 'S1191' 'S1192' 'S1193' 'S1194' 'S1195' 'S1196' 'S1197'\n",
      " 'S1198' 'S1199' 'S1200' 'S1201' 'S1202' 'S1203' 'S1204' 'S1205' 'S1206'\n",
      " 'S1207' 'S1208' 'S1209' 'S1210' 'S1211' 'S1212' 'S1213' 'S1214' 'S1215'\n",
      " 'S1216' 'S1217' 'S1218' 'S1219' 'S1220' 'S1221' 'S1222' 'S1223' 'S1224'\n",
      " 'S1225' 'S1226' 'S1227' 'S1228' 'S1229' 'S1230' 'S1231' 'S1232' 'S1233'\n",
      " 'S1234' 'S1235' 'S1236' 'S1237' 'S1238' 'S1239' 'S1240' 'S1241' 'S1242'\n",
      " 'S1243' 'S1244' 'S1245' 'S1246' 'S1247' 'S1248' 'S1249' 'S1250' 'S1251'\n",
      " 'S1252' 'S1253' 'S1254' 'S1255' 'S1256' 'S1257' 'S1258' 'S1259' 'S1260'\n",
      " 'S1261' 'S1262' 'S1263' 'S1264' 'S1265' 'S1266' 'S1267' 'S1268' 'S1269'\n",
      " 'S1270' 'S1271' 'S1272' 'S1273' 'S1274' 'S1275' 'S1276' 'S1277' 'S1278'\n",
      " 'S1279' 'S1280' 'S1281' 'S1282' 'S1283' 'S1284' 'S1285' 'S1286' 'S1287'\n",
      " 'S1288' 'S1289' 'S1290' 'S1291' 'S1292' 'S1293' 'S1294' 'S1295' 'S1296'\n",
      " 'S1297' 'S1298' 'S1299' 'S1300' 'S1301' 'S1302' 'S1303' 'S1304' 'S1305'\n",
      " 'S1306' 'S1307' 'S1308' 'S1309' 'S1310' 'S1311' 'S1312' 'S1313' 'S1314'\n",
      " 'S1315' 'S1316' 'S1317' 'S1318' 'S1319' 'S1320' 'S1321' 'S1322' 'S1323'\n",
      " 'S1324' 'S1325' 'S1326' 'S1327' 'S1328' 'S1329' 'S1330' 'S1331' 'S1332'\n",
      " 'S1333' 'S1334' 'S1335' 'S1336' 'S1337' 'S1338' 'S1339' 'S1340' 'S1341'\n",
      " 'S1342' 'S1343' 'S1344' 'S1345' 'S1346' 'S1347' 'S1348' 'S1349' 'S1350'\n",
      " 'S1351' 'S1352' 'S1353' 'S1354' 'S1355' 'S1356' 'S1357' 'S1358' 'S1359'\n",
      " 'S1360' 'S1361' 'S1362' 'S1363' 'S1364' 'S1365' 'S1366' 'S1367' 'S1368'\n",
      " 'S1369' 'S1370' 'S1371' 'S1372' 'S1373' 'S1374' 'S1375' 'S1376' 'S1377'\n",
      " 'S1378' 'S1379' 'S1380' 'S1381' 'S1382' 'S1383' 'S1384' 'S1385' 'S1386'\n",
      " 'S1387' 'S1388' 'S1389' 'S1390' 'S1391' 'S1392' 'S1393' 'S1394' 'S1395'\n",
      " 'S1396' 'S1397' 'S1398' 'S1399' 'S1400' 'S1401' 'S1402' 'S1403' 'S1404'\n",
      " 'S1405' 'S1406' 'S1407' 'S1408' 'S1409' 'S1410' 'S1411' 'S1412' 'S1413'\n",
      " 'S1414' 'S1415' 'S1416' 'S1417' 'S1418' 'S1419' 'S1420' 'S1421' 'S1422'\n",
      " 'S1423' 'S1424' 'S1425' 'S1426' 'S1427' 'S1428' 'S1429' 'S1430' 'S1431'\n",
      " 'S1432' 'S1433' 'S1434' 'S1435' 'S1436' 'S1437' 'S1438' 'S1439' 'S1440'\n",
      " 'S1441' 'S1442' 'S1443' 'S1444' 'S1445' 'S1446' 'S1447' 'S1448' 'S1449'\n",
      " 'S1450' 'S1451' 'S1452' 'S1453' 'S1454' 'S1455' 'S1456' 'S1457' 'S1458'\n",
      " 'S1459' 'S1460' 'S1461' 'S1462' 'S1463' 'S1464' 'S1465' 'S1466' 'S1467'\n",
      " 'S1468' 'S1469' 'S1470' 'S1471' 'S1472' 'S1473' 'S1474' 'S1475' 'S1476'\n",
      " 'S1477' 'S1478' 'S1479' 'S1480' 'S1481' 'S1482' 'S1483' 'S1484' 'S1485'\n",
      " 'S1486' 'S1487' 'S1488' 'S1489' 'S1490' 'S1491' 'S1492' 'S1493' 'S1494'\n",
      " 'S1495' 'S1496' 'S1497' 'S1498' 'S1499' 'S1500' 'S1501' 'S1502' 'S1503'\n",
      " 'S1504' 'S1505' 'S1506' 'S1507' 'S1508' 'S1509' 'S1510' 'S1511' 'S1512'\n",
      " 'S1513' 'S1514' 'S1515' 'S1516' 'S1517' 'S1518' 'S1519' 'S1520' 'S1521'\n",
      " 'S1522' 'S1523' 'S1524' 'S1525' 'S1526' 'S1527' 'S1528' 'S1529' 'S1530'\n",
      " 'S1531' 'S1532' 'S1533' 'S1534' 'S1535' 'S1536' 'S1537' 'S1538' 'S1539'\n",
      " 'S1540' 'S1541' 'S1542' 'S1543' 'S1544' 'S1545' 'S1546' 'S1547' 'S1548'\n",
      " 'S1549' 'S1550' 'S1551' 'S1552' 'S1553' 'S1554' 'S1555' 'S1556' 'S1557'\n",
      " 'S1558' 'S1559' 'S1560' 'S1561' 'S1562' 'S1563' 'S1564' 'S1565' 'S1566'\n",
      " 'S1567' 'S1568' 'S1569' 'S1570' 'S1571' 'S1572' 'S1573' 'S1574' 'S1575'\n",
      " 'S1576' 'S1577' 'S1578' 'S1579' 'S1580' 'S1581' 'S1582' 'S1583' 'S1584'\n",
      " 'S1585' 'S1586' 'S1587' 'S1588' 'S1589' 'S1590' 'S1591' 'S1592' 'S1593'\n",
      " 'S1594' 'S1595' 'S1596' 'S1597' 'S1598' 'S1599' 'S1600' 'S1601' 'S1602'\n",
      " 'S1603' 'S1604' 'S1605' 'S1606' 'S1607' 'S1608' 'S1609' 'S1610' 'S1611'\n",
      " 'S1612' 'S1613' 'S1614' 'S1615' 'S1616' 'S1617' 'S1618' 'S1619' 'S1620'\n",
      " 'S1621' 'S1622' 'S1623' 'S1624' 'S1625' 'S1626' 'S1627' 'S1628' 'S1629'\n",
      " 'S1630' 'S1631' 'S1632' 'S1633' 'S1634' 'S1635' 'S1636' 'S1637' 'S1638'\n",
      " 'S1639' 'S1640' 'S1641' 'S1642' 'S1643' 'S1644' 'S1645' 'S1646' 'S1647'\n",
      " 'S1648' 'S1649' 'S1650' 'S1651' 'S1652' 'S1653' 'S1654' 'S1655' 'S1656'\n",
      " 'S1657' 'S1658' 'S1659' 'S1660' 'S1661' 'S1662' 'S1663' 'S1664' 'S1665'\n",
      " 'S1666' 'S1667' 'S1668' 'S1669' 'S1670' 'S1671' 'S1672' 'S1673' 'S1674'\n",
      " 'S1675' 'S1676' 'S1677' 'S1678' 'S1679' 'S1680' 'S1681' 'S1682' 'S1683'\n",
      " 'S1684' 'S1685' 'S1686' 'S1687' 'S1688' 'S1689' 'S1690' 'S1691' 'S1692'\n",
      " 'S1693' 'S1694' 'S1695' 'S1696' 'S1697' 'S1698' 'S1699' 'S1700' 'S1701'\n",
      " 'S1702' 'S1703' 'S1704' 'S1705' 'S1706' 'S1707' 'S1708' 'S1709' 'S1710'\n",
      " 'S1711' 'S1712' 'S1713' 'S1714' 'S1715' 'S1716' 'S1717' 'S1718' 'S1719'\n",
      " 'S1720' 'S1721' 'S1722' 'S1723' 'S1724' 'S1725' 'S1726' 'S1727' 'S1728'\n",
      " 'S1729' 'S1730' 'S1731' 'S1732' 'S1733' 'S1734' 'S1735' 'S1736' 'S1737'\n",
      " 'S1738' 'S1739' 'S1740' 'S1741' 'S1742' 'S1743' 'S1744' 'S1745' 'S1746'\n",
      " 'S1747' 'S1748' 'S1749' 'S1750' 'S1751' 'S1752' 'S1753' 'S1754' 'S1755'\n",
      " 'S1756' 'S1757' 'S1758' 'S1759' 'S1760' 'S1761' 'S1762' 'S1763' 'S1764'\n",
      " 'S1765' 'S1766' 'S1767' 'S1768' 'S1769' 'S1770' 'S1771' 'S1772' 'S1773'\n",
      " 'S1774' 'S1775' 'S1776' 'S1777' 'S1778' 'S1779' 'S1780' 'S1781' 'S1782'\n",
      " 'S1783' 'S1784' 'S1785' 'S1786' 'S1787' 'S1788' 'S1789' 'S1790' 'S1791'\n",
      " 'S1792' 'S1793' 'S1794' 'S1795' 'S1796' 'S1797' 'S1798' 'S1799' 'S1800'\n",
      " 'S1801' 'S1802' 'S1803' 'S1804' 'S1805' 'S1806' 'S1807' 'S1808' 'S1809'\n",
      " 'S1810' 'S1811' 'S1812' 'S1813' 'S1814' 'S1815' 'S1816' 'S1817' 'S1818'\n",
      " 'S1819' 'S1820' 'S1821' 'S1822' 'S1823' 'S1824' 'S1825' 'S1826' 'S1827'\n",
      " 'S1828' 'S1829' 'S1830' 'S1831' 'S1832' 'S1833' 'S1834' 'S1835' 'S1836'\n",
      " 'S1837' 'S1838' 'S1839' 'S1840' 'S1841' 'S1842' 'S1843' 'S1844' 'S1845'\n",
      " 'S1846' 'S1847' 'S1848' 'S1849' 'S1850' 'S1851' 'S1852' 'S1853' 'S1854'\n",
      " 'S1855' 'S1856' 'S1857' 'S1858' 'S1859' 'S1860' 'S1861' 'S1862' 'S1863'\n",
      " 'S1864' 'S1865' 'S1866' 'S1867' 'S1868' 'S1869' 'S1870' 'S1871' 'S1872'\n",
      " 'S1873' 'S1874' 'S1875' 'S1876' 'S1877' 'S1878' 'S1879' 'S1880' 'S1881'\n",
      " 'S1882' 'S1883' 'S1884' 'S1885' 'S1886' 'S1887' 'S1888' 'S1889' 'S1890'\n",
      " 'S1891' 'S1892' 'S1893' 'S1894' 'S1895' 'S1896' 'S1897' 'S1898' 'S1899'\n",
      " 'S1900' 'S1901' 'S1902' 'S1903' 'S1904' 'S1905' 'S1906' 'S1907' 'S1908'\n",
      " 'S1909' 'S1910' 'S1911' 'S1912' 'S1913' 'S1914' 'S1915' 'S1916' 'S1917'\n",
      " 'S1918' 'S1919' 'S1920' 'S1921' 'S1922' 'S1923' 'S1924' 'S1925' 'S1926'\n",
      " 'S1927' 'S1928' 'S1929' 'S1930' 'S1931' 'S1932' 'S1933' 'S1934' 'S1935'\n",
      " 'S1936' 'S1937' 'S1938' 'S1939' 'S1940' 'S1941' 'S1942' 'S1943' 'S1944'\n",
      " 'S1945' 'S1946' 'S1947' 'S1948' 'S1949' 'S1950' 'S1951' 'S1952' 'S1953'\n",
      " 'S1954' 'S1955' 'S1956' 'S1957' 'S1958' 'S1959' 'S1960' 'S1961' 'S1962'\n",
      " 'S1963' 'S1964' 'S1965' 'S1966' 'S1967' 'S1968' 'S1969' 'S1970' 'S1971'\n",
      " 'S1972' 'S1973' 'S1974' 'S1975' 'S1976' 'S1977' 'S1978' 'S1979' 'S1980'\n",
      " 'S1981' 'S1982' 'S1983' 'S1984' 'S1985' 'S1986' 'S1987' 'S1988' 'S1989'\n",
      " 'S1990' 'S1991' 'S1992' 'S1993' 'S1994' 'S1995' 'S1996' 'S1997' 'S1998'\n",
      " 'S1999']\n"
     ]
    }
   ],
   "source": [
    "print('Prep for syntetic data creation utilizign ChatGPT:\\n')\n",
    "print(f'Unique Columns: {df.columns}\\n')\n",
    "print(f'Unique Values: {df.nunique()}\\n')\n",
    "\n",
    "print(f'Data Rows: {len(df)}')\n",
    "print(f'Data Columns: {len(df.columns)}\\n')\n",
    "print(df['student_id'].unique())"
   ]
  },
  {
   "cell_type": "code",
   "execution_count": 32,
   "id": "48579f26",
   "metadata": {},
   "outputs": [],
   "source": [
    "df2 = pd.read_csv('synthetic_student_extension.csv')"
   ]
  },
  {
   "cell_type": "code",
   "execution_count": 33,
   "id": "17b7ddca",
   "metadata": {},
   "outputs": [
    {
     "data": {
      "application/vnd.microsoft.datawrangler.viewer.v0+json": {
       "columns": [
        {
         "name": "index",
         "rawType": "int64",
         "type": "integer"
        },
        {
         "name": "student_id",
         "rawType": "object",
         "type": "string"
        },
        {
         "name": "library_visits_per_month",
         "rawType": "int64",
         "type": "integer"
        },
        {
         "name": "caffeine_consumption_mg_per_day",
         "rawType": "int64",
         "type": "integer"
        }
       ],
       "conversionMethod": "pd.DataFrame",
       "ref": "c3435d98-0edd-4f13-886b-56eba20fdc9b",
       "rows": [
        [
         "0",
         "S1000",
         "6",
         "395"
        ],
        [
         "1",
         "S1001",
         "19",
         "351"
        ],
        [
         "2",
         "S1002",
         "14",
         "267"
        ],
        [
         "3",
         "S1003",
         "10",
         "190"
        ],
        [
         "4",
         "S1004",
         "7",
         "153"
        ]
       ],
       "shape": {
        "columns": 3,
        "rows": 5
       }
      },
      "text/html": [
       "<div>\n",
       "<style scoped>\n",
       "    .dataframe tbody tr th:only-of-type {\n",
       "        vertical-align: middle;\n",
       "    }\n",
       "\n",
       "    .dataframe tbody tr th {\n",
       "        vertical-align: top;\n",
       "    }\n",
       "\n",
       "    .dataframe thead th {\n",
       "        text-align: right;\n",
       "    }\n",
       "</style>\n",
       "<table border=\"1\" class=\"dataframe\">\n",
       "  <thead>\n",
       "    <tr style=\"text-align: right;\">\n",
       "      <th></th>\n",
       "      <th>student_id</th>\n",
       "      <th>library_visits_per_month</th>\n",
       "      <th>caffeine_consumption_mg_per_day</th>\n",
       "    </tr>\n",
       "  </thead>\n",
       "  <tbody>\n",
       "    <tr>\n",
       "      <th>0</th>\n",
       "      <td>S1000</td>\n",
       "      <td>6</td>\n",
       "      <td>395</td>\n",
       "    </tr>\n",
       "    <tr>\n",
       "      <th>1</th>\n",
       "      <td>S1001</td>\n",
       "      <td>19</td>\n",
       "      <td>351</td>\n",
       "    </tr>\n",
       "    <tr>\n",
       "      <th>2</th>\n",
       "      <td>S1002</td>\n",
       "      <td>14</td>\n",
       "      <td>267</td>\n",
       "    </tr>\n",
       "    <tr>\n",
       "      <th>3</th>\n",
       "      <td>S1003</td>\n",
       "      <td>10</td>\n",
       "      <td>190</td>\n",
       "    </tr>\n",
       "    <tr>\n",
       "      <th>4</th>\n",
       "      <td>S1004</td>\n",
       "      <td>7</td>\n",
       "      <td>153</td>\n",
       "    </tr>\n",
       "  </tbody>\n",
       "</table>\n",
       "</div>"
      ],
      "text/plain": [
       "  student_id  library_visits_per_month  caffeine_consumption_mg_per_day\n",
       "0      S1000                         6                              395\n",
       "1      S1001                        19                              351\n",
       "2      S1002                        14                              267\n",
       "3      S1003                        10                              190\n",
       "4      S1004                         7                              153"
      ]
     },
     "execution_count": 33,
     "metadata": {},
     "output_type": "execute_result"
    }
   ],
   "source": [
    "df2.head()"
   ]
  },
  {
   "cell_type": "code",
   "execution_count": 35,
   "id": "2692d9bb",
   "metadata": {},
   "outputs": [],
   "source": [
    "data = pd.merge(df, df2, on='student_id', how='left')"
   ]
  },
  {
   "cell_type": "code",
   "execution_count": 47,
   "id": "c1406e2c",
   "metadata": {},
   "outputs": [
    {
     "name": "stdout",
     "output_type": "stream",
     "text": [
      "student_id\n",
      "age\n",
      "gender\n",
      "study_hours_per_day\n",
      "social_media_hours\n",
      "netflix_hours\n",
      "part_time_job\n",
      "attendance_percentage\n",
      "sleep_hours\n",
      "diet_quality\n",
      "exercise_frequency\n",
      "parental_education_level\n",
      "internet_quality\n",
      "mental_health_rating\n",
      "extracurricular_participation\n",
      "exam_score\n",
      "library_visits_per_month\n",
      "caffeine_consumption_mg_per_day\n",
      "(1000, 18)\n"
     ]
    }
   ],
   "source": [
    "for col in data.columns:\n",
    "    print(col)\n",
    "\n",
    "print(data.shape)"
   ]
  },
  {
   "cell_type": "code",
   "execution_count": null,
   "id": "a994d892",
   "metadata": {},
   "outputs": [],
   "source": [
    "data.to_excel('synthetic_student_data.xlsx', index=False)"
   ]
  }
 ],
 "metadata": {
  "kernelspec": {
   "display_name": "base",
   "language": "python",
   "name": "python3"
  },
  "language_info": {
   "codemirror_mode": {
    "name": "ipython",
    "version": 3
   },
   "file_extension": ".py",
   "mimetype": "text/x-python",
   "name": "python",
   "nbconvert_exporter": "python",
   "pygments_lexer": "ipython3",
   "version": "3.12.2"
  }
 },
 "nbformat": 4,
 "nbformat_minor": 5
}
