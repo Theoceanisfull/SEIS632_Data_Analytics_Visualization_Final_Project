{
 "cells": [
  {
   "cell_type": "code",
   "execution_count": 50,
   "id": "442257f0",
   "metadata": {},
   "outputs": [],
   "source": [
    "import pandas as pd\n",
    "import pyspark\n",
    "import numpy as np\n",
    "import torch as tor\n",
    "import torch.nn as nn\n",
    "import torch.nn.functional as F\n",
    "import torch.optim as optim\n",
    "from torch.utils.data import Dataset, DataLoader\n",
    "from sklearn.model_selection import train_test_split\n",
    "from sklearn.preprocessing import StandardScaler\n",
    "from sklearn.metrics import mean_squared_error\n",
    "import matplotlib.pyplot as plt\n",
    "import seaborn as sns\n",
    "import os"
   ]
  },
  {
   "cell_type": "code",
   "execution_count": 51,
   "id": "6f986e0f",
   "metadata": {},
   "outputs": [],
   "source": [
    "dataset = pd.read_csv('Galton_Family_Heights.csv')"
   ]
  },
  {
   "cell_type": "code",
   "execution_count": 52,
   "id": "ae3448f0",
   "metadata": {},
   "outputs": [
    {
     "data": {
      "application/vnd.microsoft.datawrangler.viewer.v0+json": {
       "columns": [
        {
         "name": "index",
         "rawType": "int64",
         "type": "integer"
        },
        {
         "name": "Father_height",
         "rawType": "float64",
         "type": "float"
        },
        {
         "name": "Mother_height",
         "rawType": "float64",
         "type": "float"
        },
        {
         "name": "Child_height",
         "rawType": "float64",
         "type": "float"
        },
        {
         "name": "gender",
         "rawType": "int64",
         "type": "integer"
        }
       ],
       "conversionMethod": "pd.DataFrame",
       "ref": "a09c123a-199d-4ea9-a95e-ec3ce4c6669a",
       "rows": [
        [
         "0",
         "78.5",
         "67.0",
         "73.2",
         "1"
        ],
        [
         "1",
         "78.5",
         "67.0",
         "69.2",
         "0"
        ],
        [
         "2",
         "78.5",
         "67.0",
         "69.0",
         "0"
        ],
        [
         "3",
         "78.5",
         "67.0",
         "69.0",
         "0"
        ],
        [
         "4",
         "75.5",
         "66.5",
         "73.5",
         "1"
        ]
       ],
       "shape": {
        "columns": 4,
        "rows": 5
       }
      },
      "text/html": [
       "<div>\n",
       "<style scoped>\n",
       "    .dataframe tbody tr th:only-of-type {\n",
       "        vertical-align: middle;\n",
       "    }\n",
       "\n",
       "    .dataframe tbody tr th {\n",
       "        vertical-align: top;\n",
       "    }\n",
       "\n",
       "    .dataframe thead th {\n",
       "        text-align: right;\n",
       "    }\n",
       "</style>\n",
       "<table border=\"1\" class=\"dataframe\">\n",
       "  <thead>\n",
       "    <tr style=\"text-align: right;\">\n",
       "      <th></th>\n",
       "      <th>Father_height</th>\n",
       "      <th>Mother_height</th>\n",
       "      <th>Child_height</th>\n",
       "      <th>gender</th>\n",
       "    </tr>\n",
       "  </thead>\n",
       "  <tbody>\n",
       "    <tr>\n",
       "      <th>0</th>\n",
       "      <td>78.5</td>\n",
       "      <td>67.0</td>\n",
       "      <td>73.2</td>\n",
       "      <td>1</td>\n",
       "    </tr>\n",
       "    <tr>\n",
       "      <th>1</th>\n",
       "      <td>78.5</td>\n",
       "      <td>67.0</td>\n",
       "      <td>69.2</td>\n",
       "      <td>0</td>\n",
       "    </tr>\n",
       "    <tr>\n",
       "      <th>2</th>\n",
       "      <td>78.5</td>\n",
       "      <td>67.0</td>\n",
       "      <td>69.0</td>\n",
       "      <td>0</td>\n",
       "    </tr>\n",
       "    <tr>\n",
       "      <th>3</th>\n",
       "      <td>78.5</td>\n",
       "      <td>67.0</td>\n",
       "      <td>69.0</td>\n",
       "      <td>0</td>\n",
       "    </tr>\n",
       "    <tr>\n",
       "      <th>4</th>\n",
       "      <td>75.5</td>\n",
       "      <td>66.5</td>\n",
       "      <td>73.5</td>\n",
       "      <td>1</td>\n",
       "    </tr>\n",
       "  </tbody>\n",
       "</table>\n",
       "</div>"
      ],
      "text/plain": [
       "   Father_height  Mother_height  Child_height  gender\n",
       "0           78.5           67.0          73.2       1\n",
       "1           78.5           67.0          69.2       0\n",
       "2           78.5           67.0          69.0       0\n",
       "3           78.5           67.0          69.0       0\n",
       "4           75.5           66.5          73.5       1"
      ]
     },
     "execution_count": 52,
     "metadata": {},
     "output_type": "execute_result"
    }
   ],
   "source": [
    "dataset.head()"
   ]
  },
  {
   "cell_type": "code",
   "execution_count": 53,
   "id": "6b868836",
   "metadata": {},
   "outputs": [
    {
     "data": {
      "application/vnd.microsoft.datawrangler.viewer.v0+json": {
       "columns": [
        {
         "name": "index",
         "rawType": "object",
         "type": "string"
        },
        {
         "name": "Father_height",
         "rawType": "float64",
         "type": "float"
        },
        {
         "name": "Mother_height",
         "rawType": "float64",
         "type": "float"
        },
        {
         "name": "Child_height",
         "rawType": "float64",
         "type": "float"
        },
        {
         "name": "gender",
         "rawType": "float64",
         "type": "float"
        }
       ],
       "conversionMethod": "pd.DataFrame",
       "ref": "d5e9f03a-dffb-4120-a60a-5bc576c8f8f2",
       "rows": [
        [
         "count",
         "934.0",
         "934.0",
         "934.0",
         "934.0"
        ],
        [
         "mean",
         "69.19710920770878",
         "64.08929336188437",
         "66.74593147751605",
         "0.5149892933618844"
        ],
        [
         "std",
         "2.476479322288017",
         "2.290886210344103",
         "3.5792512015188342",
         "0.5000430312597083"
        ],
        [
         "min",
         "62.0",
         "58.0",
         "56.0",
         "0.0"
        ],
        [
         "25%",
         "68.0",
         "63.0",
         "64.0",
         "0.0"
        ],
        [
         "50%",
         "69.0",
         "64.0",
         "66.5",
         "1.0"
        ],
        [
         "75%",
         "71.0",
         "65.875",
         "69.7",
         "1.0"
        ],
        [
         "max",
         "78.5",
         "70.5",
         "79.0",
         "1.0"
        ]
       ],
       "shape": {
        "columns": 4,
        "rows": 8
       }
      },
      "text/html": [
       "<div>\n",
       "<style scoped>\n",
       "    .dataframe tbody tr th:only-of-type {\n",
       "        vertical-align: middle;\n",
       "    }\n",
       "\n",
       "    .dataframe tbody tr th {\n",
       "        vertical-align: top;\n",
       "    }\n",
       "\n",
       "    .dataframe thead th {\n",
       "        text-align: right;\n",
       "    }\n",
       "</style>\n",
       "<table border=\"1\" class=\"dataframe\">\n",
       "  <thead>\n",
       "    <tr style=\"text-align: right;\">\n",
       "      <th></th>\n",
       "      <th>Father_height</th>\n",
       "      <th>Mother_height</th>\n",
       "      <th>Child_height</th>\n",
       "      <th>gender</th>\n",
       "    </tr>\n",
       "  </thead>\n",
       "  <tbody>\n",
       "    <tr>\n",
       "      <th>count</th>\n",
       "      <td>934.000000</td>\n",
       "      <td>934.000000</td>\n",
       "      <td>934.000000</td>\n",
       "      <td>934.000000</td>\n",
       "    </tr>\n",
       "    <tr>\n",
       "      <th>mean</th>\n",
       "      <td>69.197109</td>\n",
       "      <td>64.089293</td>\n",
       "      <td>66.745931</td>\n",
       "      <td>0.514989</td>\n",
       "    </tr>\n",
       "    <tr>\n",
       "      <th>std</th>\n",
       "      <td>2.476479</td>\n",
       "      <td>2.290886</td>\n",
       "      <td>3.579251</td>\n",
       "      <td>0.500043</td>\n",
       "    </tr>\n",
       "    <tr>\n",
       "      <th>min</th>\n",
       "      <td>62.000000</td>\n",
       "      <td>58.000000</td>\n",
       "      <td>56.000000</td>\n",
       "      <td>0.000000</td>\n",
       "    </tr>\n",
       "    <tr>\n",
       "      <th>25%</th>\n",
       "      <td>68.000000</td>\n",
       "      <td>63.000000</td>\n",
       "      <td>64.000000</td>\n",
       "      <td>0.000000</td>\n",
       "    </tr>\n",
       "    <tr>\n",
       "      <th>50%</th>\n",
       "      <td>69.000000</td>\n",
       "      <td>64.000000</td>\n",
       "      <td>66.500000</td>\n",
       "      <td>1.000000</td>\n",
       "    </tr>\n",
       "    <tr>\n",
       "      <th>75%</th>\n",
       "      <td>71.000000</td>\n",
       "      <td>65.875000</td>\n",
       "      <td>69.700000</td>\n",
       "      <td>1.000000</td>\n",
       "    </tr>\n",
       "    <tr>\n",
       "      <th>max</th>\n",
       "      <td>78.500000</td>\n",
       "      <td>70.500000</td>\n",
       "      <td>79.000000</td>\n",
       "      <td>1.000000</td>\n",
       "    </tr>\n",
       "  </tbody>\n",
       "</table>\n",
       "</div>"
      ],
      "text/plain": [
       "       Father_height  Mother_height  Child_height      gender\n",
       "count     934.000000     934.000000    934.000000  934.000000\n",
       "mean       69.197109      64.089293     66.745931    0.514989\n",
       "std         2.476479       2.290886      3.579251    0.500043\n",
       "min        62.000000      58.000000     56.000000    0.000000\n",
       "25%        68.000000      63.000000     64.000000    0.000000\n",
       "50%        69.000000      64.000000     66.500000    1.000000\n",
       "75%        71.000000      65.875000     69.700000    1.000000\n",
       "max        78.500000      70.500000     79.000000    1.000000"
      ]
     },
     "metadata": {},
     "output_type": "display_data"
    },
    {
     "data": {
      "text/plain": [
       "(934, 4)"
      ]
     },
     "metadata": {},
     "output_type": "display_data"
    },
    {
     "name": "stdout",
     "output_type": "stream",
     "text": [
      "There are no missing values\n"
     ]
    }
   ],
   "source": [
    "display(dataset.describe())\n",
    "display(dataset.shape)\n",
    "\n",
    "if dataset.isnull().sum().sum() > 0:\n",
    "    print(\"There are missinng values)\")\n",
    "else:\n",
    "    print(\"There are no missing values\")\n",
    "\n",
    "# gender: 0 for Female, 1 for Father"
   ]
  },
  {
   "cell_type": "code",
   "execution_count": 54,
   "id": "a04d2979",
   "metadata": {},
   "outputs": [],
   "source": [
    "#Galton's Midparent forumula\n",
    "#Enriching the datset with midparent height\n",
    "dataset['Midparent_height'] = (dataset['Father_height'] + (1.08 * dataset['Mother_height'])) / 2"
   ]
  },
  {
   "cell_type": "code",
   "execution_count": 55,
   "id": "286610ac",
   "metadata": {},
   "outputs": [
    {
     "data": {
      "application/vnd.microsoft.datawrangler.viewer.v0+json": {
       "columns": [
        {
         "name": "index",
         "rawType": "object",
         "type": "string"
        },
        {
         "name": "Father_height",
         "rawType": "float64",
         "type": "float"
        },
        {
         "name": "Mother_height",
         "rawType": "float64",
         "type": "float"
        },
        {
         "name": "Child_height",
         "rawType": "float64",
         "type": "float"
        },
        {
         "name": "gender",
         "rawType": "float64",
         "type": "float"
        },
        {
         "name": "Midparent_height",
         "rawType": "float64",
         "type": "float"
        }
       ],
       "conversionMethod": "pd.DataFrame",
       "ref": "eb7c3ef6-da7d-4626-9ac4-6f2300e9b858",
       "rows": [
        [
         "count",
         "934.0",
         "934.0",
         "934.0",
         "934.0",
         "934.0"
        ],
        [
         "mean",
         "69.19710920770878",
         "64.08929336188437",
         "66.74593147751605",
         "0.5149892933618844",
         "69.20677301927195"
        ],
        [
         "std",
         "2.476479322288017",
         "2.290886210344103",
         "3.5792512015188342",
         "0.5000430312597083",
         "1.802370221606616"
        ],
        [
         "min",
         "62.0",
         "58.0",
         "56.0",
         "0.0",
         "64.4"
        ],
        [
         "25%",
         "68.0",
         "63.0",
         "64.0",
         "0.0",
         "68.14"
        ],
        [
         "50%",
         "69.0",
         "64.0",
         "66.5",
         "1.0",
         "69.248"
        ],
        [
         "75%",
         "71.0",
         "65.875",
         "69.7",
         "1.0",
         "70.14"
        ],
        [
         "max",
         "78.5",
         "70.5",
         "79.0",
         "1.0",
         "75.43"
        ]
       ],
       "shape": {
        "columns": 5,
        "rows": 8
       }
      },
      "text/html": [
       "<div>\n",
       "<style scoped>\n",
       "    .dataframe tbody tr th:only-of-type {\n",
       "        vertical-align: middle;\n",
       "    }\n",
       "\n",
       "    .dataframe tbody tr th {\n",
       "        vertical-align: top;\n",
       "    }\n",
       "\n",
       "    .dataframe thead th {\n",
       "        text-align: right;\n",
       "    }\n",
       "</style>\n",
       "<table border=\"1\" class=\"dataframe\">\n",
       "  <thead>\n",
       "    <tr style=\"text-align: right;\">\n",
       "      <th></th>\n",
       "      <th>Father_height</th>\n",
       "      <th>Mother_height</th>\n",
       "      <th>Child_height</th>\n",
       "      <th>gender</th>\n",
       "      <th>Midparent_height</th>\n",
       "    </tr>\n",
       "  </thead>\n",
       "  <tbody>\n",
       "    <tr>\n",
       "      <th>count</th>\n",
       "      <td>934.000000</td>\n",
       "      <td>934.000000</td>\n",
       "      <td>934.000000</td>\n",
       "      <td>934.000000</td>\n",
       "      <td>934.000000</td>\n",
       "    </tr>\n",
       "    <tr>\n",
       "      <th>mean</th>\n",
       "      <td>69.197109</td>\n",
       "      <td>64.089293</td>\n",
       "      <td>66.745931</td>\n",
       "      <td>0.514989</td>\n",
       "      <td>69.206773</td>\n",
       "    </tr>\n",
       "    <tr>\n",
       "      <th>std</th>\n",
       "      <td>2.476479</td>\n",
       "      <td>2.290886</td>\n",
       "      <td>3.579251</td>\n",
       "      <td>0.500043</td>\n",
       "      <td>1.802370</td>\n",
       "    </tr>\n",
       "    <tr>\n",
       "      <th>min</th>\n",
       "      <td>62.000000</td>\n",
       "      <td>58.000000</td>\n",
       "      <td>56.000000</td>\n",
       "      <td>0.000000</td>\n",
       "      <td>64.400000</td>\n",
       "    </tr>\n",
       "    <tr>\n",
       "      <th>25%</th>\n",
       "      <td>68.000000</td>\n",
       "      <td>63.000000</td>\n",
       "      <td>64.000000</td>\n",
       "      <td>0.000000</td>\n",
       "      <td>68.140000</td>\n",
       "    </tr>\n",
       "    <tr>\n",
       "      <th>50%</th>\n",
       "      <td>69.000000</td>\n",
       "      <td>64.000000</td>\n",
       "      <td>66.500000</td>\n",
       "      <td>1.000000</td>\n",
       "      <td>69.248000</td>\n",
       "    </tr>\n",
       "    <tr>\n",
       "      <th>75%</th>\n",
       "      <td>71.000000</td>\n",
       "      <td>65.875000</td>\n",
       "      <td>69.700000</td>\n",
       "      <td>1.000000</td>\n",
       "      <td>70.140000</td>\n",
       "    </tr>\n",
       "    <tr>\n",
       "      <th>max</th>\n",
       "      <td>78.500000</td>\n",
       "      <td>70.500000</td>\n",
       "      <td>79.000000</td>\n",
       "      <td>1.000000</td>\n",
       "      <td>75.430000</td>\n",
       "    </tr>\n",
       "  </tbody>\n",
       "</table>\n",
       "</div>"
      ],
      "text/plain": [
       "       Father_height  Mother_height  Child_height      gender  \\\n",
       "count     934.000000     934.000000    934.000000  934.000000   \n",
       "mean       69.197109      64.089293     66.745931    0.514989   \n",
       "std         2.476479       2.290886      3.579251    0.500043   \n",
       "min        62.000000      58.000000     56.000000    0.000000   \n",
       "25%        68.000000      63.000000     64.000000    0.000000   \n",
       "50%        69.000000      64.000000     66.500000    1.000000   \n",
       "75%        71.000000      65.875000     69.700000    1.000000   \n",
       "max        78.500000      70.500000     79.000000    1.000000   \n",
       "\n",
       "       Midparent_height  \n",
       "count        934.000000  \n",
       "mean          69.206773  \n",
       "std            1.802370  \n",
       "min           64.400000  \n",
       "25%           68.140000  \n",
       "50%           69.248000  \n",
       "75%           70.140000  \n",
       "max           75.430000  "
      ]
     },
     "metadata": {},
     "output_type": "display_data"
    }
   ],
   "source": [
    "dataset. head()\n",
    "display(dataset.describe())"
   ]
  },
  {
   "cell_type": "code",
   "execution_count": 56,
   "id": "a66811a8",
   "metadata": {},
   "outputs": [],
   "source": [
    "corr_mat_numeric = dataset.corr(numeric_only=True)"
   ]
  },
  {
   "cell_type": "code",
   "execution_count": 57,
   "id": "18a1f2f9",
   "metadata": {},
   "outputs": [
    {
     "data": {
      "image/png": "[encoded data removed]",
      "text/plain": [
       "<Figure size 640x480 with 2 Axes>"
      ]
     },
     "metadata": {},
     "output_type": "display_data"
    }
   ],
   "source": [
    "sns.heatmap(corr_mat_numeric, annot=True, fmt=\".2f\", cmap='coolwarm')\n",
    "plt.title('Correlation Matrix')\n",
    "plt.show()"
   ]
  },
  {
   "cell_type": "code",
   "execution_count": 58,
   "id": "b3e5840b",
   "metadata": {},
   "outputs": [],
   "source": [
    "#Normalize Data \n",
    "from sklearn.preprocessing import StandardScaler\n",
    "scaler = StandardScaler()\n",
    "independent = scaler.fit_transform(dataset[['Midparent_height', 'gender']])\n",
    "dependent = scaler.fit_transform(dataset[['Child_height']])\n",
    "\n",
    "#Train Test Split \n",
    "x_train, x_test, y_train, y_test = train_test_split(independent, dependent, test_size=0.3, random_state=42)\n",
    "\n",
    "x_train = tor.tensor(x_train, dtype=tor.float32)\n",
    "x_test = tor.tensor(x_test, dtype=tor.float32)\n",
    "\n",
    "y_train = tor.tensor(y_train, dtype=tor.float32)\n",
    "y_test = tor.tensor(y_test, dtype=tor.float32)\n"
   ]
  },
  {
   "cell_type": "code",
   "execution_count": 59,
   "id": "9852b209",
   "metadata": {},
   "outputs": [],
   "source": [
    "#Build lindear regression model \n",
    "class LinearRegressionModel(nn.Module):\n",
    "    def __init__(self):\n",
    "        super().__init__()\n",
    "        self.linear = nn.Linear(2, 1)\n",
    "    \n",
    "    def forward(self, x):\n",
    "        return self.linear(x)\n",
    "    \n",
    "model = LinearRegressionModel()"
   ]
  },
  {
   "cell_type": "code",
   "execution_count": 60,
   "id": "4f0837a3",
   "metadata": {},
   "outputs": [
    {
     "name": "stdout",
     "output_type": "stream",
     "text": [
      "Epoch [1/500], Loss: 2.3853\n",
      "Epoch [51/500], Loss: 0.6548\n",
      "Epoch [101/500], Loss: 0.4081\n",
      "Epoch [151/500], Loss: 0.3728\n",
      "Epoch [201/500], Loss: 0.3677\n",
      "Epoch [251/500], Loss: 0.3670\n",
      "Epoch [301/500], Loss: 0.3668\n",
      "Epoch [351/500], Loss: 0.3668\n",
      "Epoch [401/500], Loss: 0.3668\n",
      "Epoch [451/500], Loss: 0.3668\n"
     ]
    }
   ],
   "source": [
    "#Train Model\n",
    "criterion = nn.MSELoss()\n",
    "optimizer = optim.SGD(model.parameters(), lr=0.01)\n",
    "\n",
    "for epoch in range(500):\n",
    "    model.train()\n",
    "    optimizer.zero_grad()\n",
    "    outputs = model(x_train)\n",
    "    loss = criterion(outputs, y_train)\n",
    "    loss.backward()\n",
    "    optimizer.step()\n",
    "\n",
    "    if epoch % 50 == 0:\n",
    "        print(f'Epoch [{epoch+1}/500], Loss: {loss.item():.4f}')"
   ]
  },
  {
   "cell_type": "code",
   "execution_count": 61,
   "id": "58c7d8bd",
   "metadata": {},
   "outputs": [
    {
     "name": "stdout",
     "output_type": "stream",
     "text": [
      "Mid_MAE: 1.72\n",
      "Mid_RMSE: 2.17\n",
      "Mid_R² Score: 0.633\n"
     ]
    },
    {
     "name": "stderr",
     "output_type": "stream",
     "text": [
      "/opt/anaconda3/lib/python3.12/site-packages/sklearn/metrics/_regression.py:492: FutureWarning: 'squared' is deprecated in version 1.4 and will be removed in 1.6. To calculate the root mean squared error, use the function'root_mean_squared_error'.\n",
      "  warnings.warn(\n"
     ]
    }
   ],
   "source": [
    "from sklearn.metrics import mean_absolute_error, mean_squared_error, r2_score\n",
    "import numpy as np\n",
    "\n",
    "# Predict on all data\n",
    "X_all = tor.tensor(independent, dtype=tor.float32)\n",
    "y_all = tor.tensor(dependent, dtype=tor.float32)\n",
    "\n",
    "model.eval()\n",
    "y_pred_scaled = model(X_all).detach().numpy()\n",
    "y_true_scaled = y_all.numpy()\n",
    "\n",
    "# Inverse transform to get original scale\n",
    "y_pred_original = scaler.inverse_transform(y_pred_scaled)\n",
    "y_true_original = scaler.inverse_transform(y_true_scaled)\n",
    "\n",
    "# Calculate metrics\n",
    "Mid_mae = mean_absolute_error(y_true_original, y_pred_original)\n",
    "Mid_rmse = mean_squared_error(y_true_original, y_pred_original, squared=False)\n",
    "Mid_r2 = r2_score(y_true_original, y_pred_original)\n",
    "\n",
    "print(f\"Mid_MAE: {Mid_mae:.2f}\")\n",
    "print(f\"Mid_RMSE: {Mid_rmse:.2f}\")\n",
    "print(f\"Mid_R² Score: {Mid_r2:.3f}\")\n"
   ]
  },
  {
   "cell_type": "code",
   "execution_count": 62,
   "id": "3ce36066",
   "metadata": {},
   "outputs": [],
   "source": [
    "dataset['Midheight_Prediction'] = y_pred_original.round(2)\n",
    "dataset['Mid_MAE'] = Mid_mae\n",
    "dataset['Mid_RMSE'] = Mid_rmse\n",
    "dataset['Mid_R2'] = Mid_r2"
   ]
  },
  {
   "cell_type": "code",
   "execution_count": 71,
   "id": "e1a6b021",
   "metadata": {},
   "outputs": [],
   "source": [
    "##Normalize Data \n",
    "from sklearn.preprocessing import StandardScaler\n",
    "scaler = StandardScaler()\n",
    "independent = scaler.fit_transform(dataset[['Father_height', 'Mother_height', 'gender']])\n",
    "dependent = scaler.fit_transform(dataset[['Child_height']])\n",
    "\n",
    "#Train Test Split \n",
    "x_train, x_test, y_train, y_test = train_test_split(independent, dependent, test_size=0.3, random_state=42)\n",
    "\n",
    "x_train = tor.tensor(x_train, dtype=tor.float32)\n",
    "x_test = tor.tensor(x_test, dtype=tor.float32)\n",
    "\n",
    "y_train = tor.tensor(y_train, dtype=tor.float32)\n",
    "y_test = tor.tensor(y_test, dtype=tor.float32)\n"
   ]
  },
  {
   "cell_type": "code",
   "execution_count": 72,
   "id": "f576ece4",
   "metadata": {},
   "outputs": [],
   "source": [
    "#Build lindear regression model \n",
    "class LinearRegressionModel(nn.Module):\n",
    "    def __init__(self):\n",
    "        super().__init__()\n",
    "        self.linear = nn.Linear(3, 1)\n",
    "    \n",
    "    def forward(self, x):\n",
    "        return self.linear(x)\n",
    "    \n",
    "model = LinearRegressionModel()"
   ]
  },
  {
   "cell_type": "code",
   "execution_count": 73,
   "id": "c1976ea8",
   "metadata": {},
   "outputs": [
    {
     "name": "stdout",
     "output_type": "stream",
     "text": [
      "Epoch [1/500], Loss: 0.7123\n",
      "Epoch [51/500], Loss: 0.4078\n",
      "Epoch [101/500], Loss: 0.3683\n",
      "Epoch [151/500], Loss: 0.3632\n",
      "Epoch [201/500], Loss: 0.3626\n",
      "Epoch [251/500], Loss: 0.3625\n",
      "Epoch [301/500], Loss: 0.3625\n",
      "Epoch [351/500], Loss: 0.3625\n",
      "Epoch [401/500], Loss: 0.3625\n",
      "Epoch [451/500], Loss: 0.3625\n"
     ]
    }
   ],
   "source": [
    "#Train Model\n",
    "criterion = nn.MSELoss()\n",
    "optimizer = optim.SGD(model.parameters(), lr=0.01)\n",
    "\n",
    "for epoch in range(500):\n",
    "    model.train()\n",
    "    optimizer.zero_grad()\n",
    "    outputs = model(x_train)\n",
    "    loss = criterion(outputs, y_train)\n",
    "    loss.backward()\n",
    "    optimizer.step()\n",
    "\n",
    "    if epoch % 50 == 0:\n",
    "        print(f'Epoch [{epoch+1}/500], Loss: {loss.item():.4f}')"
   ]
  },
  {
   "cell_type": "code",
   "execution_count": 74,
   "id": "fafc14b9",
   "metadata": {},
   "outputs": [
    {
     "name": "stdout",
     "output_type": "stream",
     "text": [
      "Weights: [[0.27711347 0.18182364 0.7221153 ]]\n",
      "Bias: [-0.00324943]\n",
      "Intercept: -0.003249428002163768\n"
     ]
    }
   ],
   "source": [
    "# Get weights and bias from trained model\n",
    "weights = model.linear.weight.data.numpy()\n",
    "bias = model.linear.bias.data.numpy()\n",
    "\n",
    "print(f\"Weights: {weights}\")  \n",
    "print(f\"Bias: {bias}\")\n",
    "print(f\"Intercept: {model.linear.bias.item()}\") \n",
    "\n",
    "#Father is clearly more deterministic than the mother"
   ]
  },
  {
   "cell_type": "code",
   "execution_count": 84,
   "id": "16da069e",
   "metadata": {},
   "outputs": [
    {
     "data": {
      "text/plain": [
       "count    934.000000\n",
       "mean      66.737381\n",
       "std        2.800824\n",
       "min       60.910000\n",
       "25%       64.150000\n",
       "50%       67.029999\n",
       "75%       69.277498\n",
       "max       73.349998\n",
       "Name: Midheight_Prediction, dtype: float64"
      ]
     },
     "metadata": {},
     "output_type": "display_data"
    },
    {
     "data": {
      "application/vnd.microsoft.datawrangler.viewer.v0+json": {
       "columns": [
        {
         "name": "index",
         "rawType": "int64",
         "type": "integer"
        },
        {
         "name": "Father_height",
         "rawType": "float64",
         "type": "float"
        },
        {
         "name": "Mother_height",
         "rawType": "float64",
         "type": "float"
        },
        {
         "name": "Child_height",
         "rawType": "float64",
         "type": "float"
        },
        {
         "name": "gender",
         "rawType": "int64",
         "type": "integer"
        },
        {
         "name": "Midparent_height",
         "rawType": "float64",
         "type": "float"
        },
        {
         "name": "Midheight_Prediction",
         "rawType": "float32",
         "type": "float"
        },
        {
         "name": "Mid_MAE",
         "rawType": "float32",
         "type": "float"
        },
        {
         "name": "Mid_RMSE",
         "rawType": "float32",
         "type": "float"
        },
        {
         "name": "Mid_R2",
         "rawType": "float64",
         "type": "float"
        }
       ],
       "conversionMethod": "pd.DataFrame",
       "ref": "f386ff9e-693b-4a23-a479-bddbe6e3675f",
       "rows": [
        [
         "0",
         "78.5",
         "67.0",
         "73.2",
         "1",
         "75.43",
         "73.35",
         "1.7151235",
         "2.167274",
         "0.6329641342163086"
        ],
        [
         "1",
         "78.5",
         "67.0",
         "69.2",
         "0",
         "75.43",
         "68.19",
         "1.7151235",
         "2.167274",
         "0.6329641342163086"
        ],
        [
         "2",
         "78.5",
         "67.0",
         "69.0",
         "0",
         "75.43",
         "68.19",
         "1.7151235",
         "2.167274",
         "0.6329641342163086"
        ],
        [
         "3",
         "78.5",
         "67.0",
         "69.0",
         "0",
         "75.43",
         "68.19",
         "1.7151235",
         "2.167274",
         "0.6329641342163086"
        ],
        [
         "4",
         "75.5",
         "66.5",
         "73.5",
         "1",
         "73.66",
         "72.18",
         "1.7151235",
         "2.167274",
         "0.6329641342163086"
        ]
       ],
       "shape": {
        "columns": 9,
        "rows": 5
       }
      },
      "text/html": [
       "<div>\n",
       "<style scoped>\n",
       "    .dataframe tbody tr th:only-of-type {\n",
       "        vertical-align: middle;\n",
       "    }\n",
       "\n",
       "    .dataframe tbody tr th {\n",
       "        vertical-align: top;\n",
       "    }\n",
       "\n",
       "    .dataframe thead th {\n",
       "        text-align: right;\n",
       "    }\n",
       "</style>\n",
       "<table border=\"1\" class=\"dataframe\">\n",
       "  <thead>\n",
       "    <tr style=\"text-align: right;\">\n",
       "      <th></th>\n",
       "      <th>Father_height</th>\n",
       "      <th>Mother_height</th>\n",
       "      <th>Child_height</th>\n",
       "      <th>gender</th>\n",
       "      <th>Midparent_height</th>\n",
       "      <th>Midheight_Prediction</th>\n",
       "      <th>Mid_MAE</th>\n",
       "      <th>Mid_RMSE</th>\n",
       "      <th>Mid_R2</th>\n",
       "    </tr>\n",
       "  </thead>\n",
       "  <tbody>\n",
       "    <tr>\n",
       "      <th>0</th>\n",
       "      <td>78.5</td>\n",
       "      <td>67.0</td>\n",
       "      <td>73.2</td>\n",
       "      <td>1</td>\n",
       "      <td>75.43</td>\n",
       "      <td>73.349998</td>\n",
       "      <td>1.715124</td>\n",
       "      <td>2.167274</td>\n",
       "      <td>0.632964</td>\n",
       "    </tr>\n",
       "    <tr>\n",
       "      <th>1</th>\n",
       "      <td>78.5</td>\n",
       "      <td>67.0</td>\n",
       "      <td>69.2</td>\n",
       "      <td>0</td>\n",
       "      <td>75.43</td>\n",
       "      <td>68.190002</td>\n",
       "      <td>1.715124</td>\n",
       "      <td>2.167274</td>\n",
       "      <td>0.632964</td>\n",
       "    </tr>\n",
       "    <tr>\n",
       "      <th>2</th>\n",
       "      <td>78.5</td>\n",
       "      <td>67.0</td>\n",
       "      <td>69.0</td>\n",
       "      <td>0</td>\n",
       "      <td>75.43</td>\n",
       "      <td>68.190002</td>\n",
       "      <td>1.715124</td>\n",
       "      <td>2.167274</td>\n",
       "      <td>0.632964</td>\n",
       "    </tr>\n",
       "    <tr>\n",
       "      <th>3</th>\n",
       "      <td>78.5</td>\n",
       "      <td>67.0</td>\n",
       "      <td>69.0</td>\n",
       "      <td>0</td>\n",
       "      <td>75.43</td>\n",
       "      <td>68.190002</td>\n",
       "      <td>1.715124</td>\n",
       "      <td>2.167274</td>\n",
       "      <td>0.632964</td>\n",
       "    </tr>\n",
       "    <tr>\n",
       "      <th>4</th>\n",
       "      <td>75.5</td>\n",
       "      <td>66.5</td>\n",
       "      <td>73.5</td>\n",
       "      <td>1</td>\n",
       "      <td>73.66</td>\n",
       "      <td>72.180000</td>\n",
       "      <td>1.715124</td>\n",
       "      <td>2.167274</td>\n",
       "      <td>0.632964</td>\n",
       "    </tr>\n",
       "  </tbody>\n",
       "</table>\n",
       "</div>"
      ],
      "text/plain": [
       "   Father_height  Mother_height  Child_height  gender  Midparent_height  \\\n",
       "0           78.5           67.0          73.2       1             75.43   \n",
       "1           78.5           67.0          69.2       0             75.43   \n",
       "2           78.5           67.0          69.0       0             75.43   \n",
       "3           78.5           67.0          69.0       0             75.43   \n",
       "4           75.5           66.5          73.5       1             73.66   \n",
       "\n",
       "   Midheight_Prediction   Mid_MAE  Mid_RMSE    Mid_R2  \n",
       "0             73.349998  1.715124  2.167274  0.632964  \n",
       "1             68.190002  1.715124  2.167274  0.632964  \n",
       "2             68.190002  1.715124  2.167274  0.632964  \n",
       "3             68.190002  1.715124  2.167274  0.632964  \n",
       "4             72.180000  1.715124  2.167274  0.632964  "
      ]
     },
     "metadata": {},
     "output_type": "display_data"
    },
    {
     "data": {
      "text/plain": [
       "count    934.000000\n",
       "mean      66.745931\n",
       "std        3.579251\n",
       "min       56.000000\n",
       "25%       64.000000\n",
       "50%       66.500000\n",
       "75%       69.700000\n",
       "max       79.000000\n",
       "Name: Child_height, dtype: float64"
      ]
     },
     "metadata": {},
     "output_type": "display_data"
    },
    {
     "data": {
      "text/plain": [
       "35"
      ]
     },
     "metadata": {},
     "output_type": "display_data"
    }
   ],
   "source": [
    "display(dataset['Midheight_Prediction'].describe())\n",
    "display(dataset.head())\n",
    "display(dataset['Child_height'].describe())\n",
    "display(len(dataset['Father_height'].unique()))"
   ]
  },
  {
   "cell_type": "code",
   "execution_count": null,
   "id": "7a932077",
   "metadata": {},
   "outputs": [
    {
     "name": "stdout",
     "output_type": "stream",
     "text": [
      "parent_MAE: 1.71\n",
      "parent_RMSE: 2.16\n",
      "parent_R² Score: 0.635\n"
     ]
    },
    {
     "name": "stderr",
     "output_type": "stream",
     "text": [
      "/opt/anaconda3/lib/python3.12/site-packages/sklearn/metrics/_regression.py:492: FutureWarning: 'squared' is deprecated in version 1.4 and will be removed in 1.6. To calculate the root mean squared error, use the function'root_mean_squared_error'.\n",
      "  warnings.warn(\n"
     ]
    }
   ],
   "source": [
    "from sklearn.metrics import mean_absolute_error, mean_squared_error, r2_score\n",
    "import numpy as np\n",
    "\n",
    "# Predict on all data\n",
    "X_all = tor.tensor(independent, dtype=tor.float32)\n",
    "y_all = tor.tensor(dependent, dtype=tor.float32)\n",
    "\n",
    "model.eval()\n",
    "y_pred_scaled = model(X_all).detach().numpy()\n",
    "y_true_scaled = y_all.numpy()\n",
    "\n",
    "# Inverse transform to get original scale\n",
    "y_pred_original = scaler.inverse_transform(y_pred_scaled)\n",
    "y_true_original = scaler.inverse_transform(y_true_scaled)\n",
    "\n",
    "# Calculate metrics\n",
    "parent_mae = mean_absolute_error(y_true_original, y_pred_original)\n",
    "parent_rmse = mean_squared_error(y_true_original, y_pred_original, squared=False)\n",
    "parent_r2 = r2_score(y_true_original, y_pred_original)\n",
    "\n",
    "print(f\"parent_MAE: {parent_mae:.2f}\")\n",
    "print(f\"parent_RMSE: {parent_rmse:.2f}\")\n",
    "print(f\"parent_R² Score: {parent_r2:.3f}\")"
   ]
  },
  {
   "cell_type": "code",
   "execution_count": null,
   "id": "bd464401",
   "metadata": {},
   "outputs": [],
   "source": [
    "dataset['Parent_Prediction'] = y_pred_original.round(2)\n",
    "dataset['Parent_MAE'] = parent_mae\n",
    "dataset['Parent_RMSE'] = parent_rmse\n",
    "dataset['Parent_R2'] = parent_r2"
   ]
  },
  {
   "cell_type": "code",
   "execution_count": null,
   "id": "ec197dca",
   "metadata": {},
   "outputs": [
    {
     "name": "stdout",
     "output_type": "stream",
     "text": [
      "Epoch [1/500], Loss: 0.6351\n",
      "Epoch [51/500], Loss: 0.4279\n",
      "Epoch [101/500], Loss: 0.4005\n",
      "Epoch [151/500], Loss: 0.3969\n",
      "Epoch [201/500], Loss: 0.3964\n",
      "Epoch [251/500], Loss: 0.3964\n",
      "Epoch [301/500], Loss: 0.3963\n",
      "Epoch [351/500], Loss: 0.3963\n",
      "Epoch [401/500], Loss: 0.3963\n",
      "Epoch [451/500], Loss: 0.3963\n"
     ]
    }
   ],
   "source": [
    "##Normalize Data \n",
    "from sklearn.preprocessing import StandardScaler\n",
    "scaler = StandardScaler()\n",
    "independent = scaler.fit_transform(dataset[['Father_height', 'gender']])\n",
    "dependent = scaler.fit_transform(dataset[['Child_height']])\n",
    "\n",
    "#Train Test Split \n",
    "x_train, x_test, y_train, y_test = train_test_split(independent, dependent, test_size=0.3, random_state=42)\n",
    "\n",
    "x_train = tor.tensor(x_train, dtype=tor.float32)\n",
    "x_test = tor.tensor(x_test, dtype=tor.float32)\n",
    "\n",
    "y_train = tor.tensor(y_train, dtype=tor.float32)\n",
    "y_test = tor.tensor(y_test, dtype=tor.float32)\n",
    "\n",
    "#Build lindear regression model \n",
    "class LinearRegressionModel(nn.Module):\n",
    "    def __init__(self):\n",
    "        super().__init__()\n",
    "        self.linear = nn.Linear(2, 1)\n",
    "    \n",
    "    def forward(self, x):\n",
    "        return self.linear(x)\n",
    "    \n",
    "model = LinearRegressionModel()\n",
    "\n",
    "#Train Model\n",
    "criterion = nn.MSELoss()\n",
    "optimizer = optim.SGD(model.parameters(), lr=0.01)\n",
    "\n",
    "for epoch in range(500):\n",
    "    model.train()\n",
    "    optimizer.zero_grad()\n",
    "    outputs = model(x_train)\n",
    "    loss = criterion(outputs, y_train)\n",
    "    loss.backward()\n",
    "    optimizer.step()\n",
    "\n",
    "    if epoch % 50 == 0:\n",
    "        print(f'Epoch [{epoch+1}/500], Loss: {loss.item():.4f}')"
   ]
  },
  {
   "cell_type": "code",
   "execution_count": null,
   "id": "e52a1ae6",
   "metadata": {},
   "outputs": [
    {
     "name": "stdout",
     "output_type": "stream",
     "text": [
      "Weights: [[0.28344178 0.72064966]]\n",
      "Bias: [-0.00386236]\n",
      "Intercept: -0.0038623646833002567\n"
     ]
    }
   ],
   "source": [
    "# Get weights and bias from trained model\n",
    "weights = model.linear.weight.data.numpy()\n",
    "bias = model.linear.bias.data.numpy()\n",
    "\n",
    "print(f\"Weights: {weights}\")  # Shape: (1, 2), one for each input feature\n",
    "print(f\"Bias: {bias}\")\n",
    "print(f\"Intercept: {model.linear.bias.item()}\")  # Shape: (1, 2), one for each input feature"
   ]
  },
  {
   "cell_type": "code",
   "execution_count": null,
   "id": "5ce7c240",
   "metadata": {},
   "outputs": [
    {
     "name": "stdout",
     "output_type": "stream",
     "text": [
      "Father_MAE: 1.80\n",
      "Father_RMSE: 2.28\n",
      "Father_R² Score: 0.594\n"
     ]
    },
    {
     "name": "stderr",
     "output_type": "stream",
     "text": [
      "/opt/anaconda3/lib/python3.12/site-packages/sklearn/metrics/_regression.py:492: FutureWarning: 'squared' is deprecated in version 1.4 and will be removed in 1.6. To calculate the root mean squared error, use the function'root_mean_squared_error'.\n",
      "  warnings.warn(\n"
     ]
    }
   ],
   "source": [
    "# Predict on all data\n",
    "X_all = tor.tensor(independent, dtype=tor.float32)\n",
    "y_all = tor.tensor(dependent, dtype=tor.float32)\n",
    "\n",
    "model.eval()\n",
    "y_pred_scaled = model(X_all).detach().numpy()\n",
    "y_true_scaled = y_all.numpy()\n",
    "\n",
    "# Inverse transform to get original scale\n",
    "y_pred_original = scaler.inverse_transform(y_pred_scaled)\n",
    "y_true_original = scaler.inverse_transform(y_true_scaled)\n",
    "\n",
    "# Calculate metrics\n",
    "Father_mae = mean_absolute_error(y_true_original, y_pred_original)\n",
    "Father_rmse = mean_squared_error(y_true_original, y_pred_original, squared=False)\n",
    "Father_r2 = r2_score(y_true_original, y_pred_original)\n",
    "\n",
    "print(f\"Father_MAE: {Father_mae:.2f}\")\n",
    "print(f\"Father_RMSE: {Father_rmse:.2f}\")\n",
    "print(f\"Father_R² Score: {Father_r2:.3f}\")"
   ]
  },
  {
   "cell_type": "code",
   "execution_count": null,
   "id": "e97b6502",
   "metadata": {},
   "outputs": [],
   "source": [
    "dataset['Father_Prediction'] = y_pred_original.round(2)\n",
    "dataset['Father_MAE'] = Father_mae\n",
    "dataset['Father_RMSE'] = Father_rmse\n",
    "dataset['Father_R2'] = Father_r2"
   ]
  },
  {
   "cell_type": "code",
   "execution_count": null,
   "id": "baf657fa",
   "metadata": {},
   "outputs": [
    {
     "name": "stdout",
     "output_type": "stream",
     "text": [
      "Epoch [1/500], Loss: 1.4012\n",
      "Epoch [51/500], Loss: 0.5667\n",
      "Epoch [101/500], Loss: 0.4550\n",
      "Epoch [151/500], Loss: 0.4400\n",
      "Epoch [201/500], Loss: 0.4380\n",
      "Epoch [251/500], Loss: 0.4377\n",
      "Epoch [301/500], Loss: 0.4377\n",
      "Epoch [351/500], Loss: 0.4377\n",
      "Epoch [401/500], Loss: 0.4377\n",
      "Epoch [451/500], Loss: 0.4377\n"
     ]
    }
   ],
   "source": [
    "#Normalize Data \n",
    "from sklearn.preprocessing import StandardScaler\n",
    "scaler = StandardScaler()\n",
    "independent = scaler.fit_transform(dataset[['Mother_height', 'gender']])\n",
    "dependent = scaler.fit_transform(dataset[['Child_height']])\n",
    "\n",
    "#Train Test Split \n",
    "x_train, x_test, y_train, y_test = train_test_split(independent, dependent, test_size=0.3, random_state=42)\n",
    "\n",
    "x_train = tor.tensor(x_train, dtype=tor.float32)\n",
    "x_test = tor.tensor(x_test, dtype=tor.float32)\n",
    "\n",
    "y_train = tor.tensor(y_train, dtype=tor.float32)\n",
    "y_test = tor.tensor(y_test, dtype=tor.float32)\n",
    "\n",
    "#Build lindear regression model \n",
    "class LinearRegressionModel(nn.Module):\n",
    "    def __init__(self):\n",
    "        super().__init__()\n",
    "        self.linear = nn.Linear(2, 1)\n",
    "    \n",
    "    def forward(self, x):\n",
    "        return self.linear(x)\n",
    "    \n",
    "model = LinearRegressionModel()\n",
    "\n",
    "#Train Model\n",
    "criterion = nn.MSELoss()\n",
    "optimizer = optim.SGD(model.parameters(), lr=0.01)\n",
    "\n",
    "for epoch in range(500):\n",
    "    model.train()\n",
    "    optimizer.zero_grad()\n",
    "    outputs = model(x_train)\n",
    "    loss = criterion(outputs, y_train)\n",
    "    loss.backward()\n",
    "    optimizer.step()\n",
    "\n",
    "    if epoch % 50 == 0:\n",
    "        print(f'Epoch [{epoch+1}/500], Loss: {loss.item():.4f}')"
   ]
  },
  {
   "cell_type": "code",
   "execution_count": null,
   "id": "bfc42262",
   "metadata": {},
   "outputs": [
    {
     "name": "stdout",
     "output_type": "stream",
     "text": [
      "Mother_MAE: 1.89\n",
      "Mother_RMSE: 2.37\n",
      "Mother_R² Score: 0.561\n"
     ]
    },
    {
     "name": "stderr",
     "output_type": "stream",
     "text": [
      "/opt/anaconda3/lib/python3.12/site-packages/sklearn/metrics/_regression.py:492: FutureWarning: 'squared' is deprecated in version 1.4 and will be removed in 1.6. To calculate the root mean squared error, use the function'root_mean_squared_error'.\n",
      "  warnings.warn(\n"
     ]
    }
   ],
   "source": [
    "# Predict on all data\n",
    "X_all = tor.tensor(independent, dtype=tor.float32)\n",
    "y_all = tor.tensor(dependent, dtype=tor.float32)\n",
    "\n",
    "model.eval()\n",
    "y_pred_scaled = model(X_all).detach().numpy()\n",
    "y_true_scaled = y_all.numpy()\n",
    "\n",
    "# Inverse transform to get original scale\n",
    "y_pred_original = scaler.inverse_transform(y_pred_scaled)\n",
    "y_true_original = scaler.inverse_transform(y_true_scaled)\n",
    "\n",
    "# Calculate metrics\n",
    "Mother_mae = mean_absolute_error(y_true_original, y_pred_original)\n",
    "Mother_rmse = mean_squared_error(y_true_original, y_pred_original, squared=False)\n",
    "Mother_r2 = r2_score(y_true_original, y_pred_original)\n",
    "\n",
    "print(f\"Mother_MAE: {Mother_mae:.2f}\")\n",
    "print(f\"Mother_RMSE: {Mother_rmse:.2f}\")\n",
    "print(f\"Mother_R² Score: {Mother_r2:.3f}\")"
   ]
  },
  {
   "cell_type": "code",
   "execution_count": null,
   "id": "319a77d3",
   "metadata": {},
   "outputs": [],
   "source": [
    "dataset['Mother_Prediction'] = y_pred_original.round(2)\n",
    "dataset['Mother_MAE'] = Mother_mae\n",
    "dataset['Mother_RMSE'] = Mother_rmse\n",
    "dataset['Mother_R2'] = Mother_r2"
   ]
  },
  {
   "cell_type": "code",
   "execution_count": null,
   "id": "6b0001ea",
   "metadata": {},
   "outputs": [
    {
     "data": {
      "application/vnd.microsoft.datawrangler.viewer.v0+json": {
       "columns": [
        {
         "name": "index",
         "rawType": "int64",
         "type": "integer"
        },
        {
         "name": "Father_height",
         "rawType": "float64",
         "type": "float"
        },
        {
         "name": "Mother_height",
         "rawType": "float64",
         "type": "float"
        },
        {
         "name": "Child_height",
         "rawType": "float64",
         "type": "float"
        },
        {
         "name": "gender",
         "rawType": "int64",
         "type": "integer"
        },
        {
         "name": "Midparent_height",
         "rawType": "float64",
         "type": "float"
        },
        {
         "name": "Midheight_Prediction",
         "rawType": "float32",
         "type": "float"
        },
        {
         "name": "Mid_MAE",
         "rawType": "float32",
         "type": "float"
        },
        {
         "name": "Mid_RMSE",
         "rawType": "float32",
         "type": "float"
        },
        {
         "name": "Mid_R2",
         "rawType": "float64",
         "type": "float"
        },
        {
         "name": "Parent_Prediction",
         "rawType": "float32",
         "type": "float"
        },
        {
         "name": "Parent_MAE",
         "rawType": "float32",
         "type": "float"
        },
        {
         "name": "Parent_RMSE",
         "rawType": "float32",
         "type": "float"
        },
        {
         "name": "Parent_R2",
         "rawType": "float64",
         "type": "float"
        },
        {
         "name": "Father_Prediction",
         "rawType": "float32",
         "type": "float"
        },
        {
         "name": "Father_MAE",
         "rawType": "float32",
         "type": "float"
        },
        {
         "name": "Father_RMSE",
         "rawType": "float32",
         "type": "float"
        },
        {
         "name": "Father_R2",
         "rawType": "float64",
         "type": "float"
        },
        {
         "name": "Mother_Prediction",
         "rawType": "float32",
         "type": "float"
        },
        {
         "name": "Mother_MAE",
         "rawType": "float32",
         "type": "float"
        },
        {
         "name": "Mother_RMSE",
         "rawType": "float32",
         "type": "float"
        },
        {
         "name": "Mother_R2",
         "rawType": "float64",
         "type": "float"
        }
       ],
       "conversionMethod": "pd.DataFrame",
       "ref": "eb852145-6081-458b-81a4-74242532884a",
       "rows": [
        [
         "0",
         "78.5",
         "67.0",
         "73.2",
         "1",
         "75.43",
         "73.35",
         "1.7151219",
         "2.1672728",
         "0.632964551448822",
         "73.79",
         "1.7078836",
         "2.1615956",
         "0.6348848342895508",
         "73.04",
         "1.7978375",
         "2.278762",
         "0.5942310094833374",
         "70.07",
         "1.893481",
         "2.3707242",
         "0.5608196258544922"
        ],
        [
         "1",
         "78.5",
         "67.0",
         "69.2",
         "0",
         "75.43",
         "68.19",
         "1.7151219",
         "2.1672728",
         "0.632964551448822",
         "68.62",
         "1.7078836",
         "2.1615956",
         "0.6348848342895508",
         "67.89",
         "1.7978375",
         "2.278762",
         "0.5942310094833374",
         "65.01",
         "1.893481",
         "2.3707242",
         "0.5608196258544922"
        ],
        [
         "2",
         "78.5",
         "67.0",
         "69.0",
         "0",
         "75.43",
         "68.19",
         "1.7151219",
         "2.1672728",
         "0.632964551448822",
         "68.62",
         "1.7078836",
         "2.1615956",
         "0.6348848342895508",
         "67.89",
         "1.7978375",
         "2.278762",
         "0.5942310094833374",
         "65.01",
         "1.893481",
         "2.3707242",
         "0.5608196258544922"
        ],
        [
         "3",
         "78.5",
         "67.0",
         "69.0",
         "0",
         "75.43",
         "68.19",
         "1.7151219",
         "2.1672728",
         "0.632964551448822",
         "68.62",
         "1.7078836",
         "2.1615956",
         "0.6348848342895508",
         "67.89",
         "1.7978375",
         "2.278762",
         "0.5942310094833374",
         "65.01",
         "1.893481",
         "2.3707242",
         "0.5608196258544922"
        ],
        [
         "4",
         "75.5",
         "66.5",
         "73.5",
         "1",
         "73.66",
         "72.18",
         "1.7151219",
         "2.1672728",
         "0.632964551448822",
         "72.45",
         "1.7078836",
         "2.1615956",
         "0.6348848342895508",
         "71.82",
         "1.7978375",
         "2.278762",
         "0.5942310094833374",
         "69.92",
         "1.893481",
         "2.3707242",
         "0.5608196258544922"
        ]
       ],
       "shape": {
        "columns": 21,
        "rows": 5
       }
      },
      "text/html": [
       "<div>\n",
       "<style scoped>\n",
       "    .dataframe tbody tr th:only-of-type {\n",
       "        vertical-align: middle;\n",
       "    }\n",
       "\n",
       "    .dataframe tbody tr th {\n",
       "        vertical-align: top;\n",
       "    }\n",
       "\n",
       "    .dataframe thead th {\n",
       "        text-align: right;\n",
       "    }\n",
       "</style>\n",
       "<table border=\"1\" class=\"dataframe\">\n",
       "  <thead>\n",
       "    <tr style=\"text-align: right;\">\n",
       "      <th></th>\n",
       "      <th>Father_height</th>\n",
       "      <th>Mother_height</th>\n",
       "      <th>Child_height</th>\n",
       "      <th>gender</th>\n",
       "      <th>Midparent_height</th>\n",
       "      <th>Midheight_Prediction</th>\n",
       "      <th>Mid_MAE</th>\n",
       "      <th>Mid_RMSE</th>\n",
       "      <th>Mid_R2</th>\n",
       "      <th>Parent_Prediction</th>\n",
       "      <th>...</th>\n",
       "      <th>Parent_RMSE</th>\n",
       "      <th>Parent_R2</th>\n",
       "      <th>Father_Prediction</th>\n",
       "      <th>Father_MAE</th>\n",
       "      <th>Father_RMSE</th>\n",
       "      <th>Father_R2</th>\n",
       "      <th>Mother_Prediction</th>\n",
       "      <th>Mother_MAE</th>\n",
       "      <th>Mother_RMSE</th>\n",
       "      <th>Mother_R2</th>\n",
       "    </tr>\n",
       "  </thead>\n",
       "  <tbody>\n",
       "    <tr>\n",
       "      <th>0</th>\n",
       "      <td>78.5</td>\n",
       "      <td>67.0</td>\n",
       "      <td>73.2</td>\n",
       "      <td>1</td>\n",
       "      <td>75.43</td>\n",
       "      <td>73.349998</td>\n",
       "      <td>1.715122</td>\n",
       "      <td>2.167273</td>\n",
       "      <td>0.632965</td>\n",
       "      <td>73.790001</td>\n",
       "      <td>...</td>\n",
       "      <td>2.161596</td>\n",
       "      <td>0.634885</td>\n",
       "      <td>73.040001</td>\n",
       "      <td>1.797837</td>\n",
       "      <td>2.278762</td>\n",
       "      <td>0.594231</td>\n",
       "      <td>70.070000</td>\n",
       "      <td>1.893481</td>\n",
       "      <td>2.370724</td>\n",
       "      <td>0.56082</td>\n",
       "    </tr>\n",
       "    <tr>\n",
       "      <th>1</th>\n",
       "      <td>78.5</td>\n",
       "      <td>67.0</td>\n",
       "      <td>69.2</td>\n",
       "      <td>0</td>\n",
       "      <td>75.43</td>\n",
       "      <td>68.190002</td>\n",
       "      <td>1.715122</td>\n",
       "      <td>2.167273</td>\n",
       "      <td>0.632965</td>\n",
       "      <td>68.620003</td>\n",
       "      <td>...</td>\n",
       "      <td>2.161596</td>\n",
       "      <td>0.634885</td>\n",
       "      <td>67.889999</td>\n",
       "      <td>1.797837</td>\n",
       "      <td>2.278762</td>\n",
       "      <td>0.594231</td>\n",
       "      <td>65.010002</td>\n",
       "      <td>1.893481</td>\n",
       "      <td>2.370724</td>\n",
       "      <td>0.56082</td>\n",
       "    </tr>\n",
       "    <tr>\n",
       "      <th>2</th>\n",
       "      <td>78.5</td>\n",
       "      <td>67.0</td>\n",
       "      <td>69.0</td>\n",
       "      <td>0</td>\n",
       "      <td>75.43</td>\n",
       "      <td>68.190002</td>\n",
       "      <td>1.715122</td>\n",
       "      <td>2.167273</td>\n",
       "      <td>0.632965</td>\n",
       "      <td>68.620003</td>\n",
       "      <td>...</td>\n",
       "      <td>2.161596</td>\n",
       "      <td>0.634885</td>\n",
       "      <td>67.889999</td>\n",
       "      <td>1.797837</td>\n",
       "      <td>2.278762</td>\n",
       "      <td>0.594231</td>\n",
       "      <td>65.010002</td>\n",
       "      <td>1.893481</td>\n",
       "      <td>2.370724</td>\n",
       "      <td>0.56082</td>\n",
       "    </tr>\n",
       "    <tr>\n",
       "      <th>3</th>\n",
       "      <td>78.5</td>\n",
       "      <td>67.0</td>\n",
       "      <td>69.0</td>\n",
       "      <td>0</td>\n",
       "      <td>75.43</td>\n",
       "      <td>68.190002</td>\n",
       "      <td>1.715122</td>\n",
       "      <td>2.167273</td>\n",
       "      <td>0.632965</td>\n",
       "      <td>68.620003</td>\n",
       "      <td>...</td>\n",
       "      <td>2.161596</td>\n",
       "      <td>0.634885</td>\n",
       "      <td>67.889999</td>\n",
       "      <td>1.797837</td>\n",
       "      <td>2.278762</td>\n",
       "      <td>0.594231</td>\n",
       "      <td>65.010002</td>\n",
       "      <td>1.893481</td>\n",
       "      <td>2.370724</td>\n",
       "      <td>0.56082</td>\n",
       "    </tr>\n",
       "    <tr>\n",
       "      <th>4</th>\n",
       "      <td>75.5</td>\n",
       "      <td>66.5</td>\n",
       "      <td>73.5</td>\n",
       "      <td>1</td>\n",
       "      <td>73.66</td>\n",
       "      <td>72.180000</td>\n",
       "      <td>1.715122</td>\n",
       "      <td>2.167273</td>\n",
       "      <td>0.632965</td>\n",
       "      <td>72.449997</td>\n",
       "      <td>...</td>\n",
       "      <td>2.161596</td>\n",
       "      <td>0.634885</td>\n",
       "      <td>71.820000</td>\n",
       "      <td>1.797837</td>\n",
       "      <td>2.278762</td>\n",
       "      <td>0.594231</td>\n",
       "      <td>69.919998</td>\n",
       "      <td>1.893481</td>\n",
       "      <td>2.370724</td>\n",
       "      <td>0.56082</td>\n",
       "    </tr>\n",
       "  </tbody>\n",
       "</table>\n",
       "<p>5 rows × 21 columns</p>\n",
       "</div>"
      ],
      "text/plain": [
       "   Father_height  Mother_height  Child_height  gender  Midparent_height  \\\n",
       "0           78.5           67.0          73.2       1             75.43   \n",
       "1           78.5           67.0          69.2       0             75.43   \n",
       "2           78.5           67.0          69.0       0             75.43   \n",
       "3           78.5           67.0          69.0       0             75.43   \n",
       "4           75.5           66.5          73.5       1             73.66   \n",
       "\n",
       "   Midheight_Prediction   Mid_MAE  Mid_RMSE    Mid_R2  Parent_Prediction  ...  \\\n",
       "0             73.349998  1.715122  2.167273  0.632965          73.790001  ...   \n",
       "1             68.190002  1.715122  2.167273  0.632965          68.620003  ...   \n",
       "2             68.190002  1.715122  2.167273  0.632965          68.620003  ...   \n",
       "3             68.190002  1.715122  2.167273  0.632965          68.620003  ...   \n",
       "4             72.180000  1.715122  2.167273  0.632965          72.449997  ...   \n",
       "\n",
       "   Parent_RMSE  Parent_R2  Father_Prediction  Father_MAE  Father_RMSE  \\\n",
       "0     2.161596   0.634885          73.040001    1.797837     2.278762   \n",
       "1     2.161596   0.634885          67.889999    1.797837     2.278762   \n",
       "2     2.161596   0.634885          67.889999    1.797837     2.278762   \n",
       "3     2.161596   0.634885          67.889999    1.797837     2.278762   \n",
       "4     2.161596   0.634885          71.820000    1.797837     2.278762   \n",
       "\n",
       "   Father_R2  Mother_Prediction  Mother_MAE  Mother_RMSE  Mother_R2  \n",
       "0   0.594231          70.070000    1.893481     2.370724    0.56082  \n",
       "1   0.594231          65.010002    1.893481     2.370724    0.56082  \n",
       "2   0.594231          65.010002    1.893481     2.370724    0.56082  \n",
       "3   0.594231          65.010002    1.893481     2.370724    0.56082  \n",
       "4   0.594231          69.919998    1.893481     2.370724    0.56082  \n",
       "\n",
       "[5 rows x 21 columns]"
      ]
     },
     "metadata": {},
     "output_type": "display_data"
    },
    {
     "data": {
      "text/plain": [
       "Index(['Father_height', 'Mother_height', 'Child_height', 'gender',\n",
       "       'Midparent_height', 'Midheight_Prediction', 'Mid_MAE', 'Mid_RMSE',\n",
       "       'Mid_R2', 'Parent_Prediction', 'Parent_MAE', 'Parent_RMSE', 'Parent_R2',\n",
       "       'Father_Prediction', 'Father_MAE', 'Father_RMSE', 'Father_R2',\n",
       "       'Mother_Prediction', 'Mother_MAE', 'Mother_RMSE', 'Mother_R2'],\n",
       "      dtype='object')"
      ]
     },
     "metadata": {},
     "output_type": "display_data"
    }
   ],
   "source": [
    "display(dataset.head())\n",
    "display(dataset.columns)"
   ]
  },
  {
   "cell_type": "code",
   "execution_count": null,
   "id": "2c1764b5",
   "metadata": {},
   "outputs": [],
   "source": [
    "#dataset.to_csv('Johnsonscott_Galton_Family_Heights_Predictions.csv', index=False)"
   ]
  },
  {
   "cell_type": "code",
   "execution_count": null,
   "id": "5347a903",
   "metadata": {},
   "outputs": [
    {
     "name": "stdout",
     "output_type": "stream",
     "text": [
      "Epoch [1/500], Loss: 1.0766\n",
      "Epoch [51/500], Loss: 0.4556\n",
      "Epoch [101/500], Loss: 0.3748\n",
      "Epoch [151/500], Loss: 0.3641\n",
      "Epoch [201/500], Loss: 0.3627\n",
      "Epoch [251/500], Loss: 0.3625\n",
      "Epoch [301/500], Loss: 0.3625\n",
      "Epoch [351/500], Loss: 0.3625\n",
      "Epoch [401/500], Loss: 0.3625\n",
      "Epoch [451/500], Loss: 0.3625\n"
     ]
    }
   ],
   "source": [
    "##Normalize Data \n",
    "from sklearn.preprocessing import StandardScaler\n",
    "scaler = StandardScaler()\n",
    "independent = scaler.fit_transform(dataset[['Father_height', 'Mother_height', 'gender']])\n",
    "dependent = scaler.fit_transform(dataset[['Child_height']])\n",
    "\n",
    "#Train Test Split \n",
    "x_train, x_test, y_train, y_test = train_test_split(independent, dependent, test_size=0.3, random_state=42)\n",
    "\n",
    "x_train = tor.tensor(x_train, dtype=tor.float32)\n",
    "x_test = tor.tensor(x_test, dtype=tor.float32)\n",
    "\n",
    "y_train = tor.tensor(y_train, dtype=tor.float32)\n",
    "y_test = tor.tensor(y_test, dtype=tor.float32)\n",
    "\n",
    "#Build lindear regression model \n",
    "class LinearRegressionModel(nn.Module):\n",
    "    def __init__(self):\n",
    "        super().__init__()\n",
    "        self.linear = nn.Linear(3, 1)\n",
    "    \n",
    "    def forward(self, x):\n",
    "        return self.linear(x)\n",
    "    \n",
    "model = LinearRegressionModel()\n",
    "\n",
    "#Train Model\n",
    "criterion = nn.MSELoss()\n",
    "optimizer = optim.SGD(model.parameters(), lr=0.01)\n",
    "\n",
    "for epoch in range(500):\n",
    "    model.train()\n",
    "    optimizer.zero_grad()\n",
    "    outputs = model(x_train)\n",
    "    loss = criterion(outputs, y_train)\n",
    "    loss.backward()\n",
    "    optimizer.step()\n",
    "\n",
    "    if epoch % 50 == 0:\n",
    "        print(f'Epoch [{epoch+1}/500], Loss: {loss.item():.4f}')"
   ]
  },
  {
   "cell_type": "code",
   "execution_count": null,
   "id": "3b90a2c7",
   "metadata": {},
   "outputs": [
    {
     "name": "stdout",
     "output_type": "stream",
     "text": [
      "Predicted Offspring Height (Female): 67.89 inches\n"
     ]
    },
    {
     "name": "stderr",
     "output_type": "stream",
     "text": [
      "/opt/anaconda3/lib/python3.12/site-packages/sklearn/base.py:493: UserWarning: X does not have valid feature names, but StandardScaler was fitted with feature names\n",
      "  warnings.warn(\n"
     ]
    }
   ],
   "source": [
    "#Research Question \n",
    "#What is the expected adult height of a female daughter based on father who 6’2 and a mother who is 5’10?\n",
    "\n",
    "mother_height = 70  # inches (5'10\")\n",
    "father_height = 74  # inches (6'2\")\n",
    "gender = 0         # 0 = Female\n",
    "\n",
    "input_scaler = StandardScaler()\n",
    "independent = input_scaler.fit_transform(dataset[['Mother_height', 'Father_height', 'gender']])\n",
    "target_scaler = StandardScaler()\n",
    "dependent = target_scaler.fit_transform(dataset[['Child_height']])\n",
    "\n",
    "# 1. Create input\n",
    "input_array = np.array([[mother_height, father_height, gender]])\n",
    "\n",
    "# 2. Scale input using input_scaler\n",
    "input_scaled = input_scaler.transform(input_array)\n",
    "input_tensor = tor.tensor(input_scaled, dtype=tor.float32)\n",
    "\n",
    "# 3. Predict\n",
    "model.eval()\n",
    "with tor.no_grad():\n",
    "    output_scaled = model(input_tensor).numpy()\n",
    "\n",
    "# 4. Inverse transform using target_scaler\n",
    "output_original = target_scaler.inverse_transform(output_scaled)\n",
    "print(f\"Predicted Offspring Height (Female): {output_original[0][0]:.2f} inches\")\n"
   ]
  },
  {
   "cell_type": "code",
   "execution_count": null,
   "id": "70d313bf",
   "metadata": {},
   "outputs": [],
   "source": []
  }
 ],
 "metadata": {
  "kernelspec": {
   "display_name": "base",
   "language": "python",
   "name": "python3"
  },
  "language_info": {
   "codemirror_mode": {
    "name": "ipython",
    "version": 3
   },
   "file_extension": ".py",
   "mimetype": "text/x-python",
   "name": "python",
   "nbconvert_exporter": "python",
   "pygments_lexer": "ipython3",
   "version": "3.12.2"
  }
 },
 "nbformat": 4,
 "nbformat_minor": 5
}
